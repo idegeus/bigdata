{
 "cells": [
  {
   "cell_type": "code",
   "execution_count": 3,
   "id": "buried-depression",
   "metadata": {},
   "outputs": [
    {
     "data": {
      "text/plain": [
       "'/Users/benplatten/Applications/spark-3.1.1-bin-hadoop2.7'"
      ]
     },
     "execution_count": 3,
     "metadata": {},
     "output_type": "execute_result"
    }
   ],
   "source": [
    "import findspark\n",
    "findspark.init()\n",
    "findspark.find()"
   ]
  },
  {
   "cell_type": "code",
   "execution_count": 21,
   "id": "attached-marsh",
   "metadata": {},
   "outputs": [],
   "source": [
    "from pyspark import SparkConf, SparkContext\n",
    "import collections\n",
    "import re"
   ]
  },
  {
   "cell_type": "code",
   "execution_count": 5,
   "id": "dense-packing",
   "metadata": {},
   "outputs": [],
   "source": [
    "conf = SparkConf().setMaster(\"local\").setAppName(\"AverageRating\")\n",
    "sc = SparkContext(conf = conf)"
   ]
  },
  {
   "cell_type": "code",
   "execution_count": 6,
   "id": "quiet-windsor",
   "metadata": {},
   "outputs": [],
   "source": [
    "data_folder = '/Users/benplatten/workspace/UvA_BD/bigdata/data/'"
   ]
  },
  {
   "cell_type": "markdown",
   "id": "dedicated-queensland",
   "metadata": {},
   "source": [
    "### Movies / Genres\n",
    "##### id title genres"
   ]
  },
  {
   "cell_type": "code",
   "execution_count": 63,
   "id": "secret-capability",
   "metadata": {},
   "outputs": [],
   "source": [
    "lines = sc.textFile(data_folder+\"/ml-latest-small/movies.csv\")"
   ]
  },
  {
   "cell_type": "code",
   "execution_count": 78,
   "id": "tested-struggle",
   "metadata": {},
   "outputs": [],
   "source": [
    "def loadMovieGenres():\n",
    "    movieGenres = {}\n",
    "    with open(data_folder + \"ml-latest-small/movies.csv\", \"r\", encoding='ISO-8859-1', errors='ignore') as f:\n",
    "        for line in f:\n",
    "            fields = line.split(';')\n",
    "            genres = fields[2]\n",
    "            genres = genres.strip('\\n')\n",
    "            genres = genres.split(\"|\")\n",
    "            movieGenres[int(fields[0])] = genres\n",
    "    return movieGenres"
   ]
  },
  {
   "cell_type": "code",
   "execution_count": 80,
   "id": "confused-health",
   "metadata": {},
   "outputs": [],
   "source": [
    "id_genre_bc = sc.broadcast(loadMovieGenres())"
   ]
  },
  {
   "cell_type": "markdown",
   "id": "australian-mauritius",
   "metadata": {},
   "source": [
    "### Ratings\n",
    "##### userId movieId rating timestamp"
   ]
  },
  {
   "cell_type": "code",
   "execution_count": 120,
   "id": "enclosed-benefit",
   "metadata": {},
   "outputs": [],
   "source": [
    "rating_lines = sc.textFile(data_folder+\"/ml-latest-small/ratings.csv\")"
   ]
  },
  {
   "cell_type": "code",
   "execution_count": 121,
   "id": "great-vitamin",
   "metadata": {},
   "outputs": [],
   "source": [
    "def parseLine(line):\n",
    "    fields =line.split(';')\n",
    "    movieId = int(fields[1])\n",
    "    rating= float(fields[2])\n",
    "    return (movieId, rating)"
   ]
  },
  {
   "cell_type": "code",
   "execution_count": 122,
   "id": "connected-isolation",
   "metadata": {},
   "outputs": [],
   "source": [
    "ratings_rdd = rating_lines.map(parseLine)"
   ]
  },
  {
   "cell_type": "code",
   "execution_count": 123,
   "id": "opponent-assembly",
   "metadata": {},
   "outputs": [],
   "source": [
    "def broadcastJoin(movieId,rating):\n",
    "    return (movieId,id_genre_bc.value[movieId],rating)"
   ]
  },
  {
   "cell_type": "code",
   "execution_count": 124,
   "id": "binding-perth",
   "metadata": {},
   "outputs": [],
   "source": [
    "id_genres_rating = rdd2.map(lambda x: broadcastJoin(x[0],x[1]))"
   ]
  },
  {
   "cell_type": "code",
   "execution_count": 132,
   "id": "billion-science",
   "metadata": {},
   "outputs": [],
   "source": [
    "genre_ratings = id_genres_rating.flatMap(lambda x: [(w, x[2]) for w in x[1]]).collect()\n",
    "g_rdd = sc.parallelize(genre_ratings)\n",
    "ratingsByGenre = g_rdd.mapValues(lambda x: (x,1)).reduceByKey(lambda x, y: (x[0]+y[0],x[1]+y[1]))\n",
    "averagesByGenre = ratingsByGenre.mapValues(lambda x: x[0] / x[1])\n",
    "results = averagesByGenre.collect()"
   ]
  },
  {
   "cell_type": "code",
   "execution_count": 134,
   "id": "trying-darwin",
   "metadata": {},
   "outputs": [
    {
     "name": "stdout",
     "output_type": "stream",
     "text": [
      "('Adventure', 3.5086089151939075)\n",
      "('Animation', 3.6300271933590955)\n",
      "('Children', 3.412956125108601)\n",
      "('Comedy', 3.3847207640898267)\n",
      "('Fantasy', 3.4910005070136894)\n",
      "('Romance', 3.5065107040388437)\n",
      "('Action', 3.447984331646809)\n",
      "('Crime', 3.658293867274144)\n",
      "('Thriller', 3.4937055799183425)\n",
      "('Mystery', 3.632460255407871)\n",
      "('Horror', 3.258195034974626)\n",
      "('Drama', 3.6562000620125454)\n",
      "('War', 3.8082938876312)\n",
      "('Western', 3.583937823834197)\n",
      "('Sci-Fi', 3.455747593086649)\n",
      "('Musical', 3.5636781053649105)\n",
      "('Film-Noir', 3.920114942528736)\n",
      "('IMAX', 3.618335343787696)\n",
      "('Documentary', 3.797785069729286)\n",
      "('(no genres listed)', 3.4893617021276597)\n",
      "('', 3.0)\n"
     ]
    }
   ],
   "source": [
    "for result in results:\n",
    "    print(result)"
   ]
  }
 ],
 "metadata": {
  "kernelspec": {
   "display_name": "Python 3",
   "language": "python",
   "name": "python3"
  },
  "language_info": {
   "codemirror_mode": {
    "name": "ipython",
    "version": 3
   },
   "file_extension": ".py",
   "mimetype": "text/x-python",
   "name": "python",
   "nbconvert_exporter": "python",
   "pygments_lexer": "ipython3",
   "version": "3.7.2"
  }
 },
 "nbformat": 4,
 "nbformat_minor": 5
}
